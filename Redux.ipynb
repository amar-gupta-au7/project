{
  "nbformat": 4,
  "nbformat_minor": 0,
  "metadata": {
    "colab": {
      "name": "Redux.ipynb",
      "provenance": [],
      "authorship_tag": "ABX9TyN1VTpprxsqBK4bWhJhOzyj"
    },
    "kernelspec": {
      "name": "python3",
      "display_name": "Python 3"
    }
  },
  "cells": [
    {
      "cell_type": "markdown",
      "metadata": {
        "id": "uGuAou6GAw0u",
        "colab_type": "text"
      },
      "source": [
        "## Redux"
      ]
    },
    {
      "cell_type": "code",
      "metadata": {
        "id": "CZpNx8jUAwLe",
        "colab_type": "code",
        "colab": {}
      },
      "source": [
        "//basic\n",
        "import React from 'react';\n",
        "import { createStore } from 'redux';\n",
        "\n",
        "class Redux extends React.Component {\n",
        "  render() {\n",
        "    const store = createStore((state = { count: 0 }, action) => {\n",
        "      //   if (action.type === 'increment') {\n",
        "      //     return { count: state.count + 1 };\n",
        "      //   }\n",
        "      //   return state;\n",
        "      switch (action.type) {\n",
        "        case 'increment':\n",
        "          const incrementBy =\n",
        "            typeof action.incrementBy === 'number' ? action.incrementBy : 1;\n",
        "          return { count: state.count + incrementBy };\n",
        "\n",
        "        case 'decrement':\n",
        "          const decrementBy =\n",
        "            typeof action.decrementBy === 'number' ? action.decrementBy : 1;\n",
        "          return { count: state.count - decrementBy };\n",
        "\n",
        "        case 'SET':\n",
        "          return { count: action.count };\n",
        "\n",
        "        case 'reset':\n",
        "          return { count: 0 };\n",
        "        default:\n",
        "          return state;\n",
        "      }\n",
        "    });\n",
        "    // intial Output\n",
        "    console.log('INTIAL STATE', store.getState());\n",
        "\n",
        "    //Subscribe\n",
        "    store.subscribe(() => {\n",
        "      console.log(store.getState());\n",
        "    });\n",
        "\n",
        "    // Actions - object that we can sent to the store\n",
        "    //Increment\n",
        "    store.dispatch({\n",
        "      type: 'increment',\n",
        "      incrementBy: 10,\n",
        "    });\n",
        "    //console.log('INCREMENTED STATE', store.getState());\n",
        "    store.dispatch({\n",
        "      type: 'increment',\n",
        "    });\n",
        "    //console.log('INCREMENTED STATE', store.getState());\n",
        "\n",
        "    //Decrement\n",
        "    store.dispatch({\n",
        "      type: 'decrement',\n",
        "      decrementBy: 5,\n",
        "    });\n",
        "    //console.log('DECREMENTED STATE', store.getState());\n",
        "    store.dispatch({\n",
        "      type: 'decrement',\n",
        "    });\n",
        "    //console.log('DECREMENTED STATE', store.getState());\n",
        "\n",
        "    //set\n",
        "    store.dispatch({\n",
        "      type: 'SET',\n",
        "      count: 101,\n",
        "    });\n",
        "    //console.log('SET STATE', store.getState());\n",
        "\n",
        "    //Reset\n",
        "    store.dispatch({\n",
        "      type: 'reset',\n",
        "    });\n",
        "    //console.log(\n",
        "    //   'RESET STATE',\n",
        "    //   store.getState(),\n",
        "    //   '________________________________'\n",
        "    // );\n",
        "\n",
        "    return <h1>Amar</h1>;\n",
        "  }\n",
        "}\n",
        "\n",
        "export default Redux;\n"
      ],
      "execution_count": null,
      "outputs": []
    },
    {
      "cell_type": "markdown",
      "metadata": {
        "id": "wyEBoGUNBLQi",
        "colab_type": "text"
      },
      "source": [
        "## Object Destructuring"
      ]
    },
    {
      "cell_type": "code",
      "metadata": {
        "id": "6o7EU9f0BD99",
        "colab_type": "code",
        "colab": {}
      },
      "source": [
        "const book = {\n",
        "   type: 'Ego is the enemy',\n",
        "      author: \"amar gupta\"\n",
        "      publisher:{\n",
        "          name:'anisha'\n",
        "      }\n",
        "}\n",
        "const {name: publisherNAme=\"swati\"} = book.publisher\n",
        "console.log(\"publisherNAme\")"
      ],
      "execution_count": null,
      "outputs": []
    },
    {
      "cell_type": "markdown",
      "metadata": {
        "id": "DuZaD62lBi6-",
        "colab_type": "text"
      },
      "source": [
        "## Array destructuring"
      ]
    },
    {
      "cell_type": "code",
      "metadata": {
        "id": "uOrcPfuHBk3Z",
        "colab_type": "code",
        "colab": {}
      },
      "source": [
        ""
      ],
      "execution_count": null,
      "outputs": []
    }
  ]
}